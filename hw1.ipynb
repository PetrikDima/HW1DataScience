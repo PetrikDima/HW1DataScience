{
 "cells": [
  {
   "cell_type": "code",
   "execution_count": 3,
   "metadata": {
    "collapsed": true
   },
   "outputs": [],
   "source": [
    "import numpy as np"
   ]
  },
  {
   "cell_type": "code",
   "execution_count": 13,
   "outputs": [
    {
     "name": "stdout",
     "output_type": "stream",
     "text": [
      "Кількість грошей, які вкладник поклав на перший, другий та третій рахунок: [10000 25000 15000]\n"
     ]
    }
   ],
   "source": [
    "A = np.array([[1, 1, 1], [0.05, 0.07, 0], [0.05, 0, 0.06]])\n",
    "B = np.array([50000, 2250, 1400])\n",
    "\n",
    "X = np.linalg.solve(A, B).astype('int')\n",
    "\n",
    "print(f\"Кількість грошей, які вкладник поклав на перший, другий та третій рахунок: {X}\")"
   ],
   "metadata": {
    "collapsed": false
   }
  },
  {
   "cell_type": "code",
   "execution_count": 16,
   "outputs": [
    {
     "name": "stdout",
     "output_type": "stream",
     "text": [
      "Кількість телефонів кожної моделі: [436 556 336]\n"
     ]
    }
   ],
   "source": [
    "A = np.array([[0,2,1], [2,1,0], [1,1,1]])\n",
    "B = np.array([1448, 1428, 1328])\n",
    "\n",
    "X = np.linalg.solve(A,B).astype('int')\n",
    "\n",
    "print(f\"Кількість телефонів кожної моделі: {X}\")"
   ],
   "metadata": {
    "collapsed": false
   }
  },
  {
   "cell_type": "code",
   "execution_count": 28,
   "outputs": [
    {
     "data": {
      "text/plain": "matrix([[0.08249158],\n        [2.02020202],\n        [0.25084175]])"
     },
     "execution_count": 28,
     "metadata": {},
     "output_type": "execute_result"
    }
   ],
   "source": [
    "a = np.matrix(\"3,0,3;6,0.25,0;1,0.33,1\")\n",
    "b = np.matrix(\"1;1;1\")\n",
    "a_solve = np.linalg.solve(a,b)\n",
    "a_solve"
   ],
   "metadata": {
    "collapsed": false
   }
  },
  {
   "cell_type": "code",
   "execution_count": 29,
   "outputs": [
    {
     "data": {
      "text/plain": "(0.1, 2.0, 0.3)"
     },
     "execution_count": 29,
     "metadata": {},
     "output_type": "execute_result"
    }
   ],
   "source": [
    "a = round(a_solve[0, 0], 1)\n",
    "b = round(a_solve[1, 0], 1)\n",
    "c = round(a_solve[2, 0], 1)\n",
    "a, b ,c"
   ],
   "metadata": {
    "collapsed": false
   }
  },
  {
   "cell_type": "code",
   "execution_count": 31,
   "outputs": [],
   "source": [
    "def get_result(n):\n",
    "    result = 1 / n\n",
    "    result = round(result, 1)\n",
    "    return result"
   ],
   "metadata": {
    "collapsed": false
   }
  },
  {
   "cell_type": "code",
   "execution_count": 32,
   "outputs": [
    {
     "data": {
      "text/plain": "(10.0, 0.5, 3.3)"
     },
     "execution_count": 32,
     "metadata": {},
     "output_type": "execute_result"
    }
   ],
   "source": [
    "a = get_result(a)\n",
    "b = get_result(b)\n",
    "c = get_result(c)\n",
    "a, b, c"
   ],
   "metadata": {
    "collapsed": false
   }
  },
  {
   "cell_type": "code",
   "execution_count": 33,
   "outputs": [
    {
     "data": {
      "text/plain": "matrix([[4],\n        [5],\n        [3]])"
     },
     "execution_count": 33,
     "metadata": {},
     "output_type": "execute_result"
    }
   ],
   "source": [
    "a = np.matrix(\"1,1,1;9,3,1;1,-1,1\")\n",
    "b = np.matrix(\"12;54;2\")\n",
    "a_solve = np.linalg.solve(a,b)\n",
    "result = a_solve.astype('int')\n",
    "result"
   ],
   "metadata": {
    "collapsed": false
   }
  },
  {
   "cell_type": "code",
   "execution_count": 34,
   "outputs": [
    {
     "data": {
      "text/plain": "array([1, 1])"
     },
     "execution_count": 34,
     "metadata": {},
     "output_type": "execute_result"
    }
   ],
   "source": [
    "def get_polynom(coords):\n",
    "    a = []\n",
    "    b = []\n",
    "    for x, y in coords:\n",
    "        row = []\n",
    "        b.append(y)\n",
    "        for i in range(len(coords)):\n",
    "            row.append(x ** i)\n",
    "        a.append(row)\n",
    "    return np.linalg.solve(a, b).astype('int')\n",
    "\n",
    "get_polynom([(1,2), (3,4)])"
   ],
   "metadata": {
    "collapsed": false
   }
  }
 ],
 "metadata": {
  "kernelspec": {
   "display_name": "Python 3",
   "language": "python",
   "name": "python3"
  },
  "language_info": {
   "codemirror_mode": {
    "name": "ipython",
    "version": 2
   },
   "file_extension": ".py",
   "mimetype": "text/x-python",
   "name": "python",
   "nbconvert_exporter": "python",
   "pygments_lexer": "ipython2",
   "version": "2.7.6"
  }
 },
 "nbformat": 4,
 "nbformat_minor": 0
}
